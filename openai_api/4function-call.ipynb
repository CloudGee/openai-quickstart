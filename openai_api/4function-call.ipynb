{
 "cells": [
  {
   "cell_type": "code",
   "execution_count": 1,
   "metadata": {},
   "outputs": [
    {
     "name": "stdout",
     "output_type": "stream",
     "text": [
      "Requirement already satisfied: scipy in /Users/gee/learn/openai-quickstart/.venv/lib/python3.13/site-packages (1.15.2)\n",
      "Requirement already satisfied: tenacity in /Users/gee/learn/openai-quickstart/.venv/lib/python3.13/site-packages (9.0.0)\n",
      "Requirement already satisfied: tiktoken in /Users/gee/learn/openai-quickstart/.venv/lib/python3.13/site-packages (0.9.0)\n",
      "Collecting termcolor\n",
      "  Downloading termcolor-3.0.1-py3-none-any.whl.metadata (6.1 kB)\n",
      "Requirement already satisfied: openai in /Users/gee/learn/openai-quickstart/.venv/lib/python3.13/site-packages (1.61.1)\n",
      "Requirement already satisfied: requests in /Users/gee/learn/openai-quickstart/.venv/lib/python3.13/site-packages (2.32.3)\n",
      "Requirement already satisfied: numpy<2.5,>=1.23.5 in /Users/gee/learn/openai-quickstart/.venv/lib/python3.13/site-packages (from scipy) (1.26.4)\n",
      "Requirement already satisfied: regex>=2022.1.18 in /Users/gee/learn/openai-quickstart/.venv/lib/python3.13/site-packages (from tiktoken) (2024.11.6)\n",
      "Requirement already satisfied: anyio<5,>=3.5.0 in /Users/gee/learn/openai-quickstart/.venv/lib/python3.13/site-packages (from openai) (4.9.0)\n",
      "Requirement already satisfied: distro<2,>=1.7.0 in /Users/gee/learn/openai-quickstart/.venv/lib/python3.13/site-packages (from openai) (1.9.0)\n",
      "Requirement already satisfied: httpx<1,>=0.23.0 in /Users/gee/learn/openai-quickstart/.venv/lib/python3.13/site-packages (from openai) (0.28.1)\n",
      "Requirement already satisfied: jiter<1,>=0.4.0 in /Users/gee/learn/openai-quickstart/.venv/lib/python3.13/site-packages (from openai) (0.9.0)\n",
      "Requirement already satisfied: pydantic<3,>=1.9.0 in /Users/gee/learn/openai-quickstart/.venv/lib/python3.13/site-packages (from openai) (2.9.2)\n",
      "Requirement already satisfied: sniffio in /Users/gee/learn/openai-quickstart/.venv/lib/python3.13/site-packages (from openai) (1.3.1)\n",
      "Requirement already satisfied: tqdm>4 in /Users/gee/learn/openai-quickstart/.venv/lib/python3.13/site-packages (from openai) (4.67.1)\n",
      "Requirement already satisfied: typing-extensions<5,>=4.11 in /Users/gee/learn/openai-quickstart/.venv/lib/python3.13/site-packages (from openai) (4.13.0)\n",
      "Requirement already satisfied: charset-normalizer<4,>=2 in /Users/gee/learn/openai-quickstart/.venv/lib/python3.13/site-packages (from requests) (3.4.1)\n",
      "Requirement already satisfied: idna<4,>=2.5 in /Users/gee/learn/openai-quickstart/.venv/lib/python3.13/site-packages (from requests) (3.10)\n",
      "Requirement already satisfied: urllib3<3,>=1.21.1 in /Users/gee/learn/openai-quickstart/.venv/lib/python3.13/site-packages (from requests) (2.3.0)\n",
      "Requirement already satisfied: certifi>=2017.4.17 in /Users/gee/learn/openai-quickstart/.venv/lib/python3.13/site-packages (from requests) (2025.1.31)\n",
      "Requirement already satisfied: httpcore==1.* in /Users/gee/learn/openai-quickstart/.venv/lib/python3.13/site-packages (from httpx<1,>=0.23.0->openai) (1.0.7)\n",
      "Requirement already satisfied: h11<0.15,>=0.13 in /Users/gee/learn/openai-quickstart/.venv/lib/python3.13/site-packages (from httpcore==1.*->httpx<1,>=0.23.0->openai) (0.14.0)\n",
      "Requirement already satisfied: annotated-types>=0.6.0 in /Users/gee/learn/openai-quickstart/.venv/lib/python3.13/site-packages (from pydantic<3,>=1.9.0->openai) (0.7.0)\n",
      "Requirement already satisfied: pydantic-core==2.23.4 in /Users/gee/learn/openai-quickstart/.venv/lib/python3.13/site-packages (from pydantic<3,>=1.9.0->openai) (2.23.4)\n",
      "Downloading termcolor-3.0.1-py3-none-any.whl (7.2 kB)\n",
      "Installing collected packages: termcolor\n",
      "Successfully installed termcolor-3.0.1\n"
     ]
    }
   ],
   "source": [
    "! pip install scipy tenacity tiktoken termcolor openai requests"
   ]
  },
  {
   "cell_type": "code",
   "execution_count": 38,
   "metadata": {},
   "outputs": [],
   "source": [
    "from openai import OpenAI\n",
    "import httpx \n",
    "\n",
    "client = OpenAI(\n",
    "    base_url=\"\"\n",
    ")\n",
    "\n",
    "GPT_MODEL= \"gpt-4o\""
   ]
  },
  {
   "cell_type": "code",
   "execution_count": 39,
   "metadata": {},
   "outputs": [],
   "source": [
    "# 定义一个名为functions的列表，其中包含两个字典，这两个字典分别定义了两个功能的相关参数\n",
    "\n",
    "# 第一个字典定义了一个名为\"get_current_weather\"的功能\n",
    "functions = [\n",
    "    {\n",
    "        \"name\": \"get_current_weather\",  # 功能的名称\n",
    "        \"description\": \"Get the current weather\",  # 功能的描述\n",
    "        \"parameters\": {  # 定义该功能需要的参数\n",
    "            \"type\": \"object\",\n",
    "            \"properties\": {  # 参数的属性\n",
    "                \"location\": {  # 地点参数\n",
    "                    \"type\": \"string\",  # 参数类型为字符串\n",
    "                    \"description\": \"The city and state, e.g. San Francisco, CA\",  # 参数的描述\n",
    "                },\n",
    "                \"format\": {  # 温度单位参数\n",
    "                    \"type\": \"string\",  # 参数类型为字符串\n",
    "                    \"enum\": [\"celsius\", \"fahrenheit\"],  # 参数的取值范围\n",
    "                    \"description\": \"The temperature unit to use. Infer this from the users location.\",  # 参数的描述\n",
    "                },\n",
    "            },\n",
    "            \"required\": [\"location\", \"format\"],  # 该功能需要的必要参数\n",
    "        },\n",
    "    },\n",
    "    # 第二个字典定义了一个名为\"get_n_day_weather_forecast\"的功能\n",
    "    {\n",
    "        \"name\": \"get_n_day_weather_forecast\",  # 功能的名称\n",
    "        \"description\": \"Get an N-day weather forecast\",  # 功能的描述\n",
    "        \"parameters\": {  # 定义该功能需要的参数\n",
    "            \"type\": \"object\",\n",
    "            \"properties\": {  # 参数的属性\n",
    "                \"location\": {  # 地点参数\n",
    "                    \"type\": \"string\",  # 参数类型为字符串\n",
    "                    \"description\": \"The city and state, e.g. San Francisco, CA\",  # 参数的描述\n",
    "                },\n",
    "                \"format\": {  # 温度单位参数\n",
    "                    \"type\": \"string\",  # 参数类型为字符串\n",
    "                    \"enum\": [\"celsius\", \"fahrenheit\"],  # 参数的取值范围\n",
    "                    \"description\": \"The temperature unit to use. Infer this from the users location.\",  # 参数的描述\n",
    "                },\n",
    "                \"num_days\": {  # 预测天数参数\n",
    "                    \"type\": \"integer\",  # 参数类型为整数\n",
    "                    \"description\": \"The number of days to forecast\",  # 参数的描述\n",
    "                }\n",
    "            },\n",
    "            \"required\": [\"location\", \"format\", \"num_days\"]  # 该功能需要的必要参数\n",
    "        },\n",
    "    },\n",
    "]"
   ]
  },
  {
   "cell_type": "code",
   "execution_count": 22,
   "metadata": {},
   "outputs": [
    {
     "name": "stdout",
     "output_type": "stream",
     "text": [
      "FunctionCall(arguments='{\"location\":\"Shanghai, China\",\"format\":\"celsius\"}', name='get_current_weather')\n"
     ]
    }
   ],
   "source": [
    "messages = []\n",
    "\n",
    "messages.append({\n",
    "    \"role\": \"system\",\n",
    "    \"content\": \"不要对函数的值做任何假设，所有函数参数均使用英语，如果对于用户的输入有任何不清楚的地方，请提问用户。\"\n",
    "})\n",
    "\n",
    "messages.append({\n",
    "    \"role\": \"user\",\n",
    "    \"content\": \"今天上海天气怎么样\"\n",
    "})\n",
    "\n",
    "resp = client.chat.completions.create(\n",
    "    model=GPT_MODEL,\n",
    "    temperature=0,\n",
    "    messages=messages,\n",
    "    functions=functions\n",
    ")\n",
    "\n",
    "print( resp.choices[0].message.function_call if resp.choices[0].message.function_call else resp.choices[0].message.content)"
   ]
  },
  {
   "cell_type": "code",
   "execution_count": 23,
   "metadata": {},
   "outputs": [
    {
     "name": "stdout",
     "output_type": "stream",
     "text": [
      "FunctionCall(arguments='{\"location\":\"Shanghai, China\",\"format\":\"celsius\",\"num_days\":3}', name='get_n_day_weather_forecast')\n"
     ]
    }
   ],
   "source": [
    "messages.append({\n",
    "    \"role\": \"user\",\n",
    "    \"content\": \"未来三天天气怎么样？\"\n",
    "})\n",
    "resp = client.chat.completions.create(\n",
    "    model=GPT_MODEL,\n",
    "    temperature=0,\n",
    "    messages=messages,\n",
    "    functions=functions\n",
    ")\n",
    "print( resp.choices[0].message.function_call if resp.choices[0].message.function_call else resp.choices[0].message.content)\n"
   ]
  },
  {
   "cell_type": "code",
   "execution_count": 31,
   "metadata": {},
   "outputs": [
    {
     "name": "stdout",
     "output_type": "stream",
     "text": [
      "FunctionCall(arguments='{\"location\":\"Shanghai, China\",\"format\":\"celsius\"}', name='get_current_weather')\n"
     ]
    }
   ],
   "source": [
    "resp = client.chat.completions.create(\n",
    "    model=GPT_MODEL,\n",
    "    temperature=0,\n",
    "    messages=messages,\n",
    "    functions=functions,\n",
    "    function_call={\"name\": \"get_current_weather\"}\n",
    ")\n",
    "print( resp.choices[0].message.function_call if resp.choices[0].message.function_call else resp.choices[0].message.content)\n"
   ]
  },
  {
   "cell_type": "code",
   "execution_count": 40,
   "metadata": {},
   "outputs": [],
   "source": [
    "import sqlite3\n",
    "\n",
    "conn = sqlite3.connect(\"data/chinook.db\")\n"
   ]
  },
  {
   "cell_type": "code",
   "execution_count": 58,
   "metadata": {},
   "outputs": [
    {
     "data": {
      "text/plain": [
       "[{'table_name': 'albums',\n",
       "  'column_names': [(0, 'AlbumId', 'INTEGER', 1, None, 1),\n",
       "   (1, 'Title', 'NVARCHAR(160)', 1, None, 0),\n",
       "   (2, 'ArtistId', 'INTEGER', 1, None, 0)]},\n",
       " {'table_name': 'sqlite_sequence',\n",
       "  'column_names': [(0, 'name', '', 0, None, 0), (1, 'seq', '', 0, None, 0)]},\n",
       " {'table_name': 'artists',\n",
       "  'column_names': [(0, 'ArtistId', 'INTEGER', 1, None, 1),\n",
       "   (1, 'Name', 'NVARCHAR(120)', 0, None, 0)]},\n",
       " {'table_name': 'customers',\n",
       "  'column_names': [(0, 'CustomerId', 'INTEGER', 1, None, 1),\n",
       "   (1, 'FirstName', 'NVARCHAR(40)', 1, None, 0),\n",
       "   (2, 'LastName', 'NVARCHAR(20)', 1, None, 0),\n",
       "   (3, 'Company', 'NVARCHAR(80)', 0, None, 0),\n",
       "   (4, 'Address', 'NVARCHAR(70)', 0, None, 0),\n",
       "   (5, 'City', 'NVARCHAR(40)', 0, None, 0),\n",
       "   (6, 'State', 'NVARCHAR(40)', 0, None, 0),\n",
       "   (7, 'Country', 'NVARCHAR(40)', 0, None, 0),\n",
       "   (8, 'PostalCode', 'NVARCHAR(10)', 0, None, 0),\n",
       "   (9, 'Phone', 'NVARCHAR(24)', 0, None, 0),\n",
       "   (10, 'Fax', 'NVARCHAR(24)', 0, None, 0),\n",
       "   (11, 'Email', 'NVARCHAR(60)', 1, None, 0),\n",
       "   (12, 'SupportRepId', 'INTEGER', 0, None, 0)]},\n",
       " {'table_name': 'employees',\n",
       "  'column_names': [(0, 'EmployeeId', 'INTEGER', 1, None, 1),\n",
       "   (1, 'LastName', 'NVARCHAR(20)', 1, None, 0),\n",
       "   (2, 'FirstName', 'NVARCHAR(20)', 1, None, 0),\n",
       "   (3, 'Title', 'NVARCHAR(30)', 0, None, 0),\n",
       "   (4, 'ReportsTo', 'INTEGER', 0, None, 0),\n",
       "   (5, 'BirthDate', 'DATETIME', 0, None, 0),\n",
       "   (6, 'HireDate', 'DATETIME', 0, None, 0),\n",
       "   (7, 'Address', 'NVARCHAR(70)', 0, None, 0),\n",
       "   (8, 'City', 'NVARCHAR(40)', 0, None, 0),\n",
       "   (9, 'State', 'NVARCHAR(40)', 0, None, 0),\n",
       "   (10, 'Country', 'NVARCHAR(40)', 0, None, 0),\n",
       "   (11, 'PostalCode', 'NVARCHAR(10)', 0, None, 0),\n",
       "   (12, 'Phone', 'NVARCHAR(24)', 0, None, 0),\n",
       "   (13, 'Fax', 'NVARCHAR(24)', 0, None, 0),\n",
       "   (14, 'Email', 'NVARCHAR(60)', 0, None, 0)]},\n",
       " {'table_name': 'genres',\n",
       "  'column_names': [(0, 'GenreId', 'INTEGER', 1, None, 1),\n",
       "   (1, 'Name', 'NVARCHAR(120)', 0, None, 0)]},\n",
       " {'table_name': 'invoices',\n",
       "  'column_names': [(0, 'InvoiceId', 'INTEGER', 1, None, 1),\n",
       "   (1, 'CustomerId', 'INTEGER', 1, None, 0),\n",
       "   (2, 'InvoiceDate', 'DATETIME', 1, None, 0),\n",
       "   (3, 'BillingAddress', 'NVARCHAR(70)', 0, None, 0),\n",
       "   (4, 'BillingCity', 'NVARCHAR(40)', 0, None, 0),\n",
       "   (5, 'BillingState', 'NVARCHAR(40)', 0, None, 0),\n",
       "   (6, 'BillingCountry', 'NVARCHAR(40)', 0, None, 0),\n",
       "   (7, 'BillingPostalCode', 'NVARCHAR(10)', 0, None, 0),\n",
       "   (8, 'Total', 'NUMERIC(10,2)', 1, None, 0)]},\n",
       " {'table_name': 'invoice_items',\n",
       "  'column_names': [(0, 'InvoiceLineId', 'INTEGER', 1, None, 1),\n",
       "   (1, 'InvoiceId', 'INTEGER', 1, None, 0),\n",
       "   (2, 'TrackId', 'INTEGER', 1, None, 0),\n",
       "   (3, 'UnitPrice', 'NUMERIC(10,2)', 1, None, 0),\n",
       "   (4, 'Quantity', 'INTEGER', 1, None, 0)]},\n",
       " {'table_name': 'media_types',\n",
       "  'column_names': [(0, 'MediaTypeId', 'INTEGER', 1, None, 1),\n",
       "   (1, 'Name', 'NVARCHAR(120)', 0, None, 0)]},\n",
       " {'table_name': 'playlists',\n",
       "  'column_names': [(0, 'PlaylistId', 'INTEGER', 1, None, 1),\n",
       "   (1, 'Name', 'NVARCHAR(120)', 0, None, 0)]},\n",
       " {'table_name': 'playlist_track',\n",
       "  'column_names': [(0, 'PlaylistId', 'INTEGER', 1, None, 1),\n",
       "   (1, 'TrackId', 'INTEGER', 1, None, 2)]},\n",
       " {'table_name': 'tracks',\n",
       "  'column_names': [(0, 'TrackId', 'INTEGER', 1, None, 1),\n",
       "   (1, 'Name', 'NVARCHAR(200)', 1, None, 0),\n",
       "   (2, 'AlbumId', 'INTEGER', 0, None, 0),\n",
       "   (3, 'MediaTypeId', 'INTEGER', 1, None, 0),\n",
       "   (4, 'GenreId', 'INTEGER', 0, None, 0),\n",
       "   (5, 'Composer', 'NVARCHAR(220)', 0, None, 0),\n",
       "   (6, 'Milliseconds', 'INTEGER', 1, None, 0),\n",
       "   (7, 'Bytes', 'INTEGER', 0, None, 0),\n",
       "   (8, 'UnitPrice', 'NUMERIC(10,2)', 1, None, 0)]},\n",
       " {'table_name': 'sqlite_stat1',\n",
       "  'column_names': [(0, 'tbl', '', 0, None, 0),\n",
       "   (1, 'idx', '', 0, None, 0),\n",
       "   (2, 'stat', '', 0, None, 0)]}]"
      ]
     },
     "execution_count": 58,
     "metadata": {},
     "output_type": "execute_result"
    }
   ],
   "source": [
    "def get_table_names(conn):\n",
    "    cursor = conn.cursor()\n",
    "    cursor.execute(\"SELECT name FROM sqlite_master WHERE type='table'\")\n",
    "    return [row[0] for row in cursor.fetchall()]\n",
    "\n",
    "def get_table_schema(conn, table_name):\n",
    "    cursor = conn.cursor()\n",
    "    cursor.execute(f\"PRAGMA table_info({table_name})\")\n",
    "    return cursor.fetchall()\n",
    "\n",
    "def get_database_info(conn):\n",
    "    \"\"\"返回一个字典列表，每个字典包含一个表的名字和列信息\"\"\"\n",
    "    table_dicts = []  # 创建一个空的字典列表\n",
    "    # 遍历数据库中的所有表\n",
    "    for table_name in get_table_names(conn):\n",
    "        columns_names = get_table_schema(conn, table_name)  # 获取当前表的所有列名\n",
    "        # 将表名和列名信息作为一个字典添加到列表中\n",
    "        table_dicts.append({\"table_name\": table_name, \"column_names\": columns_names})\n",
    "    return table_dicts  # 返回字典列表\n",
    "\n",
    "get_database_info(conn)\n",
    "get_table_schema(conn, \"albums\")\n",
    "get_database_info(conn)\n"
   ]
  },
  {
   "cell_type": "code",
   "execution_count": 73,
   "metadata": {},
   "outputs": [],
   "source": [
    "import json\n",
    "\n",
    "\n",
    "def ask_database(conn, query):\n",
    "    try:\n",
    "        res = str(conn.execute(query).fetchall())\n",
    "    except Exception as e:\n",
    "        res = f\"Query failed with error: {e}\"\n",
    "    return res \n",
    "\n",
    "def execute_function_call(message):\n",
    "    if message.function_call.name == \"ask_database\":\n",
    "        sql = json.loads(message.function_call.arguments)[\"query\"] \n",
    "        res = ask_database(conn, sql)\n",
    "    else:\n",
    "        res = f\"Error: function {message.function.name} does not exist\"\n",
    "    return res \n",
    "\n",
    "db_schema_dic = get_database_info(conn)"
   ]
  },
  {
   "cell_type": "code",
   "execution_count": 48,
   "metadata": {},
   "outputs": [],
   "source": [
    "functions = [\n",
    "    {\n",
    "        \"name\": \"ask_database\",\n",
    "        \"description\": \"Use this function to answer user questions about music. Output should be a fully formed SQL query.\",\n",
    "        \"parameters\": {\n",
    "            \"type\": \"object\",\n",
    "            \"properties\": {\n",
    "                \"query\": {\n",
    "                    \"type\": \"string\",\n",
    "                    \"description\": f\"\"\"\n",
    "                            SQL query extracting info to answer the user's question.\n",
    "                            SQL should be written using this database schema:\n",
    "                            {db_schema_dic}\n",
    "                            The query should be returned in plain text, not in JSON.\n",
    "                            \"\"\",\n",
    "                }\n",
    "            },\n",
    "            \"required\": [\"query\"],\n",
    "        },\n",
    "    }\n",
    "]"
   ]
  },
  {
   "cell_type": "code",
   "execution_count": 76,
   "metadata": {},
   "outputs": [
    {
     "data": {
      "text/plain": [
       "[{'role': 'system',\n",
       "  'content': 'Answer user questions by generating SQL queries against the Chinook Music Database.'},\n",
       " {'role': 'user',\n",
       "  'content': 'Hi, who are the top 5 artists by number of tracks?'},\n",
       " {'role': 'function',\n",
       "  'name': 'ask_database',\n",
       "  'content': \"[('Iron Maiden', 213), ('U2', 135), ('Led Zeppelin', 114), ('Metallica', 112), ('Lost', 92)]\"}]"
      ]
     },
     "execution_count": 76,
     "metadata": {},
     "output_type": "execute_result"
    }
   ],
   "source": [
    "messages = []\n",
    "# 向消息列表中添加一个系统角色的消息，内容是 \"Answer user questions by generating SQL queries against the Chinook Music Database.\"\n",
    "messages.append({\"role\": \"system\", \"content\": \"Answer user questions by generating SQL queries against the Chinook Music Database.\"})\n",
    "\n",
    "# 向消息列表中添加一个用户角色的消息，内容是 \"Hi, who are the top 5 artists by number of tracks?\"\n",
    "messages.append({\"role\": \"user\", \"content\": \"Hi, who are the top 5 artists by number of tracks?\"})\n",
    "\n",
    "resp = client.chat.completions.create(\n",
    "    model=GPT_MODEL,\n",
    "    temperature=0,\n",
    "    messages=messages,\n",
    "    functions=functions\n",
    ")\n",
    "\n",
    "assistant_message = resp.choices[0].message\n",
    "\n",
    "\n",
    "if resp.choices[0].finish_reason == \"function_call\":\n",
    "     # 使用 execute_function_call 函数执行功能调用，并获取结果\n",
    "    results = execute_function_call(assistant_message)\n",
    "    # 将功能的结果作为一个功能角色的消息添加到消息列表中\n",
    "    messages.append({\"role\": \"function\", \"name\": assistant_message.function_call.name, \"content\": results})\n",
    "\n",
    "messages"
   ]
  },
  {
   "cell_type": "code",
   "execution_count": 79,
   "metadata": {},
   "outputs": [
    {
     "data": {
      "text/plain": [
       "[{'role': 'system',\n",
       "  'content': 'Answer user questions by generating SQL queries against the Chinook Music Database.'},\n",
       " {'role': 'user',\n",
       "  'content': 'Hi, who are the top 5 artists by number of tracks?'},\n",
       " {'role': 'function',\n",
       "  'name': 'ask_database',\n",
       "  'content': \"[('Iron Maiden', 213), ('U2', 135), ('Led Zeppelin', 114), ('Metallica', 112), ('Lost', 92)]\"},\n",
       " {'role': 'user', 'content': '哪一个专辑最有名？'},\n",
       " {'role': 'function',\n",
       "  'name': 'ask_database',\n",
       "  'content': \"[('Iron Maiden', 213), ('U2', 135), ('Led Zeppelin', 114), ('Metallica', 112), ('Lost', 92)]\"},\n",
       " {'role': 'user', 'content': '哪一个专辑最受欢迎，告诉我最受欢迎那一个'},\n",
       " {'role': 'function',\n",
       "  'name': 'ask_database',\n",
       "  'content': \"[('Iron Maiden', 213), ('U2', 135), ('Led Zeppelin', 114), ('Metallica', 112), ('Lost', 92)]\"},\n",
       " {'role': 'user', 'content': '哪一个专辑最受欢迎，告诉我最受欢迎那一个'},\n",
       " {'role': 'function',\n",
       "  'name': 'ask_database',\n",
       "  'content': \"[('Minha Historia', 27)]\"}]"
      ]
     },
     "execution_count": 79,
     "metadata": {},
     "output_type": "execute_result"
    }
   ],
   "source": [
    "messages.append({\"role\": \"user\", \"content\": \"哪一个专辑最受欢迎，告诉我最受欢迎那一个\"})\n",
    "\n",
    "resp = client.chat.completions.create(\n",
    "    model=GPT_MODEL,\n",
    "    temperature=0,\n",
    "    messages=messages,\n",
    "    functions=functions\n",
    ")\n",
    "\n",
    "assistant_message = resp.choices[0].message\n",
    "\n",
    "if resp.choices[0].finish_reason == \"function_call\":\n",
    "    results = execute_function_call(assistant_message)\n",
    "    # 将功能的结果作为一个功能角色的消息添加到消息列表中\n",
    "    messages.append({\"role\": \"function\", \"name\": assistant_message.function_call.name, \"content\": results})\n",
    "\n",
    "messages"
   ]
  }
 ],
 "metadata": {
  "kernelspec": {
   "display_name": ".venv",
   "language": "python",
   "name": "python3"
  },
  "language_info": {
   "codemirror_mode": {
    "name": "ipython",
    "version": 3
   },
   "file_extension": ".py",
   "mimetype": "text/x-python",
   "name": "python",
   "nbconvert_exporter": "python",
   "pygments_lexer": "ipython3",
   "version": "3.13.2"
  }
 },
 "nbformat": 4,
 "nbformat_minor": 2
}
