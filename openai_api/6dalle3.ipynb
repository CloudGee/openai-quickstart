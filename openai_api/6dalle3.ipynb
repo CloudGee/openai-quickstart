{
 "cells": [
  {
   "cell_type": "code",
   "execution_count": 5,
   "metadata": {},
   "outputs": [
    {
     "name": "stdout",
     "output_type": "stream",
     "text": [
      "https://oaidalleapiprodscus.blob.core.windows.net/private/org-ruCAjgbpCbcnXMr4q21ZcO7s/user-sEwlNd6YKtpBGJFy9Ku2dWjY/img-CoDbdbTkJ4VJySm8KniahZwl.png?st=2025-05-10T08%3A25%3A22Z&se=2025-05-10T10%3A25%3A22Z&sp=r&sv=2024-08-04&sr=b&rscd=inline&rsct=image/png&skoid=475fd488-6c59-44a5-9aa9-31c4db451bea&sktid=a48cca56-e6da-484e-a814-9c849652bcb3&skt=2025-05-09T22%3A48%3A59Z&ske=2025-05-10T22%3A48%3A59Z&sks=b&skv=2024-08-04&sig=A/%2BczWS7m9Ext/ySFsi52j/6VLBhnaXXajMevfi6zNY%3D\n"
     ]
    }
   ],
   "source": [
    "from openai import OpenAI \n",
    "import httpx\n",
    "client = OpenAI(\n",
    "    base_url=\"https://openai-proxy.jhyun.net/v1\",\n",
    "    http_client = httpx.Client()\n",
    ")\n",
    "\n",
    "response = client.images.generate(\n",
    "    model=\"dall-e-3\",\n",
    "    prompt=\"a white siamese cat\",\n",
    "    size=\"1024x1024\",\n",
    "    quality=\"standard\",\n",
    "    style=\"vivid\"\n",
    ")\n",
    "\n",
    "print(response.data[0].url)"
   ]
  }
 ],
 "metadata": {
  "kernelspec": {
   "display_name": ".venv",
   "language": "python",
   "name": "python3"
  },
  "language_info": {
   "codemirror_mode": {
    "name": "ipython",
    "version": 3
   },
   "file_extension": ".py",
   "mimetype": "text/x-python",
   "name": "python",
   "nbconvert_exporter": "python",
   "pygments_lexer": "ipython3",
   "version": "3.13.2"
  }
 },
 "nbformat": 4,
 "nbformat_minor": 2
}
