{
 "cells": [
  {
   "cell_type": "code",
   "execution_count": 4,
   "metadata": {},
   "outputs": [
    {
     "name": "stdout",
     "output_type": "stream",
     "text": [
      "ChatCompletionMessage(content='The image depicts a peaceful outdoor scene featuring a narrow wooden pathway that runs through a lush, green grassy field. The sky above is bright with scattered clouds, suggesting a sunny day with pleasant weather. In the distance, there are trees and shrubs, adding to the natural and serene environment. The overall atmosphere is calm and inviting, ideal for outdoor walks or enjoying nature.', role='assistant', function_call=None, tool_calls=None, refusal=None, annotations=[])\n"
     ]
    }
   ],
   "source": [
    "from openai import OpenAI\n",
    "import httpx\n",
    "client = OpenAI(\n",
    "    base_url=\"https://openai-proxy.jhyun.net/v1\",\n",
    "    http_client=httpx.Client()\n",
    ")\n",
    "\n",
    "response = client.chat.completions.create(\n",
    "    model=\"gpt-4.1-nano\",\n",
    "    messages=[\n",
    "        {\n",
    "            \"role\": \"user\",\n",
    "            \"content\": [\n",
    "                {\n",
    "                    \"type\": \"text\",\n",
    "                    \"text\": \"Tell me about this image.\"\n",
    "                },\n",
    "                {\n",
    "                    \"type\": \"image_url\",\n",
    "                    \"image_url\": {\n",
    "                        \"url\": \"https://upload.wikimedia.org/wikipedia/commons/thumb/d/dd/Gfp-wisconsin-madison-the-nature-boardwalk.jpg/2560px-Gfp-wisconsin-madison-the-nature-boardwalk.jpg\",\n",
    "                    },\n",
    "                },\n",
    "            ],\n",
    "        },\n",
    "    ],\n",
    ")\n",
    "print(response.choices[0].message)\n"
   ]
  },
  {
   "cell_type": "code",
   "execution_count": 12,
   "metadata": {},
   "outputs": [],
   "source": [
    "def query_image_description(image_url: str, prompt : str = \"Tell me about this immage\") -> str:\n",
    "    import os\n",
    "    client = OpenAI(\n",
    "        base_url=\"https://openai-proxy.jhyun.net/v1\",\n",
    "        api_key=os.getenv(\"OPENAI_API_KEY\"),\n",
    "        http_client=httpx.Client(),\n",
    "    )\n",
    "\n",
    "    response = client.chat.completions.create(\n",
    "        model=\"gpt-4.1-nano\",\n",
    "        messages=[\n",
    "            {\n",
    "                \"role\": \"user\",\n",
    "                \"content\": [\n",
    "                    {\"type\": \"text\", \"text\": prompt},\n",
    "                    {\n",
    "                        \"type\": \"image_url\",\n",
    "                        \"image_url\": {\n",
    "                            \"url\": image_url,\n",
    "                        },\n",
    "                   },\n",
    "                ]\n",
    "            }\n",
    "        ],\n",
    "        max_tokens=300,\n",
    "    )\n",
    "\n",
    "    return response.choices[0].message.content"
   ]
  },
  {
   "cell_type": "code",
   "execution_count": 13,
   "metadata": {},
   "outputs": [
    {
     "name": "stdout",
     "output_type": "stream",
     "text": [
      "This image is a humorous comparison between the speaker's feelings or characteristics at age 16 and after working. It features two cartoon-style dogs with different appearances and accompanying text in Chinese.\n",
      "\n",
      "On the left side, labeled \"16岁的我\" (me at 16), the dog is depicted as a strong, muscular, and confident figure, representing youth and physical vitality. The text says:\n",
      "- \"我前途一片光明\" (My future is bright)\n",
      "- \"身体素质高\" (My physical fitness is good)\n",
      "- \"未来可期\" (The future is promising)\n",
      "- \"八九点钟的太阳\" (The sun at 8 or 9 o'clock) — implying a youthful, energetic period.\n",
      "\n",
      "On the right side, labeled \"工作后的我\" (me after working), the dog looks tired, less vigorous, and somewhat slouched, reflecting fatigue or burnout from work. The text says:\n",
      "- \"好累好困\" (Very tired, very sleepy)\n",
      "- \"好想睡懒觉\" (Really want to sleep in)\n",
      "- \"重伤伤不要\" (Heavy injuries, don't want to)\n",
      "- \"靠近我啊啊啊\" (Come closer to me, ahh) — showing a desire for comfort or solitude.\n",
      "- \"我好弱啊\" (I am so weak)\n",
      "- \"我就是普通人\" (I'm just an ordinary person)\n",
      "\n",
      "Overall, the meme humorously captures the contrast in feelings and physical\n"
     ]
    }
   ],
   "source": [
    "image_url = \"https://p6.itc.cn/q_70/images03/20200602/0c267a0d3d814c9783659eb956969ba1.jpeg\"\n",
    "content = query_image_description(image_url)\n",
    "print(content)"
   ]
  },
  {
   "cell_type": "code",
   "execution_count": 56,
   "metadata": {},
   "outputs": [],
   "source": [
    "def query_image_description_from_local_file(image_path, prompt=\"Describe the image, and summarize the content in details.\"):\n",
    "    import base64 \n",
    "    import os\n",
    "    client = OpenAI(\n",
    "        base_url=\"https://openai-proxy.jhyun.net/v1\",\n",
    "        api_key=os.getenv(\"OPENAI_API_KEY\"),\n",
    "        http_client=httpx.Client(),\n",
    "    )\n",
    "    image_data = base64.b64encode(open(image_path, \"rb\").read()).decode(\"utf-8\")\n",
    "    mime_type = \"image/jpeg\"  # ← 注意这里根据实际文件类型设置\n",
    "    response = client.chat.completions.create(\n",
    "        model=\"gpt-4.1-nano\",\n",
    "        messages=[\n",
    "            {\n",
    "                \"role\": \"user\",\n",
    "                \"content\": [\n",
    "                    {\"type\": \"text\", \"text\": prompt},\n",
    "                    {\n",
    "                        \"type\": \"image_url\",\n",
    "                        \"image_url\": {\n",
    "                            \"url\": f\"data:{mime_type};base64,{image_data}\"\n",
    "                        }\n",
    "                    },\n",
    "                ]\n",
    "            }\n",
    "        ],\n",
    "        max_tokens=1000,\n",
    "    )\n",
    "\n",
    "    print(response.choices[0].message.content)"
   ]
  },
  {
   "cell_type": "code",
   "execution_count": 54,
   "metadata": {},
   "outputs": [
    {
     "name": "stdout",
     "output_type": "stream",
     "text": [
      "The image is a line chart titled \"GDP Comparison from 1980 to 2020.\" It displays the gross domestic product (GDP) of four countries—USA, China, Japan, and Germany—over the years 1980 to 2020. \n",
      "\n",
      "- The USA's GDP (blue line) shows a steady increase, reaching over 21 trillion USD by 2020.\n",
      "- China's GDP (red line) begins at a low level but experiences rapid growth after around 2005, surpassing Japan around 2010 and approaching 15 trillion USD by 2020.\n",
      "- Japan's GDP (purple line) has fluctuations, peaking around 1995 and then gradually declining or leveling off.\n",
      "- Germany's GDP (green line) remains relatively stable throughout the period, with slow growth, hovering around 4 trillion USD.\n",
      "\n",
      "Overall, the chart illustrates the significant economic growth of China and the steady increase of the USA, compared to Japan and Germany's relatively stable trends.\n"
     ]
    },
    {
     "data": {
      "text/plain": [
       "<IPython.core.display.Markdown object>"
      ]
     },
     "metadata": {},
     "output_type": "display_data"
    }
   ],
   "source": [
    "from IPython.display import display, Markdown\n",
    "display(Markdown(query_image_description_from_local_file(\"./images/gdp_1980_2020.jpg\")))\n"
   ]
  },
  {
   "cell_type": "code",
   "execution_count": 57,
   "metadata": {},
   "outputs": [
    {
     "name": "stdout",
     "output_type": "stream",
     "text": [
      "The image shows an open notebook with handwritten notes on both pages, primarily related to topics in machine learning, neural networks, and computer vision.\n",
      "\n",
      "**Left Page:**\n",
      "- The main heading appears to be related to **\"Image and Tools\"** or a similar topic.\n",
      "- It discusses **1-IF Transformers** with subcategories including **Model**, **Data**, and **Benchmark**.\n",
      "- The term **PEFT** (Parameter-Efficient Fine-Tuning) is extensively mentioned, including methods like **SOTA** (State Of The Art), **PEFT Methods**, and specific techniques such as **Prompt Tuning**.\n",
      "- Under Prompt Tuning, there are notes on **Adaptaor (2019, Google)**, **Prefix (2021, Stanford)**, **Prompt (2021, Google)**, and **P-tuning V1 and V2 (2021, 2022)**.\n",
      "- Additional notes mention **Soft Prompts**, **Hard Prompts**, and templates used.\n",
      "- The bottom of the page includes some technical abbreviations and tools like **Gaojie**, **ChatGLM2**, **Bloom**, and **Alpaca**.\n",
      "\n",
      "**Right Page:**\n",
      "- The focus shifts towards **\"Multi-modality Instruction\"** and **LLMs (Large Language Models)**.\n",
      "- Mentions models like **LLaVA (3B)**, **LLaMA**, **QLORA**, **ALPACA**, and **NEU** (possibly \"New\").\n",
      "- There is a reference to **PETL (2022)** and **L3**.\n",
      "- The notes discuss **Prefix-tuning** and **Adapters**, including **refining** the models **in LLMs**.\n",
      "- Describes insertion forms with **added type** and **modified structures** like **added structure in P**.\n",
      "- Mentions **composition function Δh** and some details on **scaling parallel adapters**, **head attention**, **soft prompt**, and **better results**.\n",
      "- Lastly, \"MAM Adapters\" are noted, possibly a type or method related to model adaptation.\n",
      "\n",
      "**Summary:**\n",
      "The notes cover advanced machine learning techniques, focusing on fine-tuning large language models (LLMs) and vision-model hybrids, including transformer architectures, prompting, adapters, and multi-modality instruction models like LLaVA. It also lists various methods and their development years, highlighting recent approaches and technical details for model refinement and efficient training strategies.\n"
     ]
    },
    {
     "data": {
      "text/plain": [
       "<IPython.core.display.Markdown object>"
      ]
     },
     "metadata": {},
     "output_type": "display_data"
    }
   ],
   "source": [
    "content = query_image_description_from_local_file(\"./images/handwriting_1.jpg\")\n",
    "display(Markdown(content))"
   ]
  }
 ],
 "metadata": {
  "kernelspec": {
   "display_name": ".venv",
   "language": "python",
   "name": "python3"
  },
  "language_info": {
   "codemirror_mode": {
    "name": "ipython",
    "version": 3
   },
   "file_extension": ".py",
   "mimetype": "text/x-python",
   "name": "python",
   "nbconvert_exporter": "python",
   "pygments_lexer": "ipython3",
   "version": "3.13.2"
  }
 },
 "nbformat": 4,
 "nbformat_minor": 2
}
