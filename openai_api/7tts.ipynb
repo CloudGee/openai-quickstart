{
 "cells": [
  {
   "cell_type": "code",
   "execution_count": 9,
   "metadata": {},
   "outputs": [],
   "source": [
    "from openai import OpenAI \n",
    "import httpx\n",
    "client = OpenAI(\n",
    "    base_url=\"https://openai-proxy.jhyun.net/v1\",\n",
    "    http_client = httpx.Client()\n",
    ")\n",
    "\n",
    "speech_file_path = \"./audio/speech.mp3\"\n",
    "\n",
    "with client.audio.speech.with_streaming_response.create(\n",
    "    model=\"gpt-4o-mini-tts\",\n",
    "    voice=\"coral\",\n",
    "    input=\"Today is a wonderful day to build something people love!\",\n",
    "    response_format=\"mp3\"\n",
    ") as response:\n",
    "    response.stream_to_file(speech_file_path)\n"
   ]
  }
 ],
 "metadata": {
  "kernelspec": {
   "display_name": ".venv",
   "language": "python",
   "name": "python3"
  },
  "language_info": {
   "codemirror_mode": {
    "name": "ipython",
    "version": 3
   },
   "file_extension": ".py",
   "mimetype": "text/x-python",
   "name": "python",
   "nbconvert_exporter": "python",
   "pygments_lexer": "ipython3",
   "version": "3.13.2"
  }
 },
 "nbformat": 4,
 "nbformat_minor": 2
}
